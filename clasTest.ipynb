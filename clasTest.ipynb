{
 "cells": [
  {
   "cell_type": "code",
   "execution_count": null,
   "metadata": {
    "vscode": {
     "languageId": "plaintext"
    }
   },
   "outputs": [],
   "source": [
    "Import necessary libraries\n",
    "from statsmodels.stats.proportion import proportions_ztest\n",
    "\n",
    "# Define the number of successes (games won) and total games for both seasons\n",
    "successes = [12, 18]  # Games won in season 1 and season 2\n",
    "totals = [35, 35]     # Total games played in season 1 and season 2\n",
    "\n",
    "# Perform the proportion test\n",
    "stat, p_value = proportions_ztest(successes, totals)\n",
    "\n",
    "# Display the p-value\n",
    "p_value\n"
   ]
  }
 ],
 "metadata": {
  "language_info": {
   "name": "python"
  }
 },
 "nbformat": 4,
 "nbformat_minor": 2
}
