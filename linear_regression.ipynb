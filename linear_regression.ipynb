{
 "cells": [
  {
   "cell_type": "code",
   "execution_count": 12,
   "metadata": {},
   "outputs": [
    {
     "data": {
      "text/html": [
       "<div>\n",
       "<style scoped>\n",
       "    .dataframe tbody tr th:only-of-type {\n",
       "        vertical-align: middle;\n",
       "    }\n",
       "\n",
       "    .dataframe tbody tr th {\n",
       "        vertical-align: top;\n",
       "    }\n",
       "\n",
       "    .dataframe thead th {\n",
       "        text-align: right;\n",
       "    }\n",
       "</style>\n",
       "<table border=\"1\" class=\"dataframe\">\n",
       "  <thead>\n",
       "    <tr style=\"text-align: right;\">\n",
       "      <th></th>\n",
       "      <th>area</th>\n",
       "      <th>price</th>\n",
       "    </tr>\n",
       "  </thead>\n",
       "  <tbody>\n",
       "    <tr>\n",
       "      <th>0</th>\n",
       "      <td>10</td>\n",
       "      <td>55</td>\n",
       "    </tr>\n",
       "    <tr>\n",
       "      <th>1</th>\n",
       "      <td>20</td>\n",
       "      <td>60</td>\n",
       "    </tr>\n",
       "    <tr>\n",
       "      <th>2</th>\n",
       "      <td>30</td>\n",
       "      <td>70</td>\n",
       "    </tr>\n",
       "    <tr>\n",
       "      <th>3</th>\n",
       "      <td>49</td>\n",
       "      <td>85</td>\n",
       "    </tr>\n",
       "    <tr>\n",
       "      <th>4</th>\n",
       "      <td>50</td>\n",
       "      <td>95</td>\n",
       "    </tr>\n",
       "    <tr>\n",
       "      <th>5</th>\n",
       "      <td>60</td>\n",
       "      <td>133</td>\n",
       "    </tr>\n",
       "    <tr>\n",
       "      <th>6</th>\n",
       "      <td>70</td>\n",
       "      <td>144</td>\n",
       "    </tr>\n",
       "  </tbody>\n",
       "</table>\n",
       "</div>"
      ],
      "text/plain": [
       "   area  price\n",
       "0    10     55\n",
       "1    20     60\n",
       "2    30     70\n",
       "3    49     85\n",
       "4    50     95\n",
       "5    60    133\n",
       "6    70    144"
      ]
     },
     "execution_count": 12,
     "metadata": {},
     "output_type": "execute_result"
    }
   ],
   "source": [
    "# Import libraries\n",
    "import pandas as pd\n",
    "import matplotlib.pyplot as plt\n",
    "from sklearn import linear_model\n",
    "df = pd.read_csv(\"price_prediction.csv\")  # Replace with your CSV file name\n",
    "df"
   ]
  },
  {
   "cell_type": "code",
   "execution_count": null,
   "metadata": {},
   "outputs": [
    {
     "data": {
      "text/plain": [
       "<matplotlib.collections.PathCollection at 0x20d7baa8cd0>"
      ]
     },
     "execution_count": 13,
     "metadata": {},
     "output_type": "execute_result"
    },
    {
     "data": {
      "image/png": "[encoded data removed]",
      "text/plain": [
       "<Figure size 640x480 with 1 Axes>"
      ]
     },
     "metadata": {},
     "output_type": "display_data"
    }
   ],
   "source": [
    "#draw for seeing the graph before regression its optional\n",
    "plt.xlabel(\"area\")\n",
    "plt.ylabel(\"price\")\n",
    "plt.scatter(df.area, df.price, color=\"red\", marker=\"+\")"
   ]
  },
  {
   "cell_type": "code",
   "execution_count": null,
   "metadata": {},
   "outputs": [
    {
     "name": "stderr",
     "output_type": "stream",
     "text": [
      "c:\\Users\\L E N O V O\\AppData\\Local\\Programs\\Python\\Python313\\Lib\\site-packages\\sklearn\\utils\\validation.py:2739: UserWarning: X does not have valid feature names, but LinearRegression was fitted with feature names\n",
      "  warnings.warn(\n"
     ]
    },
    {
     "data": {
      "text/plain": [
       "array([46.12287165])"
      ]
     },
     "execution_count": 14,
     "metadata": {},
     "output_type": "execute_result"
    }
   ],
   "source": [
    "#regression by single \n",
    "#y=mx+c (slop, c is y intercept)\n",
    "reg=linear_model.LinearRegression()\n",
    "reg.fit(df[['area']],df.price)\n",
    "#now predict\n",
    "reg.predict([[11]])"
   ]
  },
  {
   "cell_type": "code",
   "execution_count": null,
   "metadata": {},
   "outputs": [],
   "source": [
    "#predict mulitple area value from csv\n",
    "df_area=pd.read_csv(\"area_prediction.csv\")\n",
    "p=reg.predict(df_area)\n",
    "df_area['price']=p\n",
    "df_area.to_csv(\"area_prediction.csv\") #update price in original excel sheet"
   ]
  },
  {
   "cell_type": "code",
   "execution_count": null,
   "metadata": {},
   "outputs": [
    {
     "data": {
      "text/plain": [
       "array([  4.31372549, -75.09803922,  -5.19607843])"
      ]
     },
     "execution_count": 35,
     "metadata": {},
     "output_type": "execute_result"
    }
   ],
   "source": [
    "#linear regression my multiple value\n",
    "#check is there is any value missing or not\n",
    "import math\n",
    "\n",
    "multi_df=pd.read_csv(\"price_pridiction_multiple_variable.csv\")\n",
    "median_badroom=math.floor(multi_df.bedroom.median())\n",
    "multi_df.bedroom=multi_df.bedroom.fillna(median_badroom)\n",
    "multi_df.to_csv(\"price_pridiction_multiple_variable.csv\", index=False) #save missing value in original csv\n",
    "#cread model for reg( I have created above)\n",
    "reg.fit(multi_df[['area','bedroom','age']], multi_df.price)\n",
    "#reg.coef_ Good practice to check intercept and coficient\n",
    "reg.predict([[17,4,12]])"
   ]
  },
  {
   "cell_type": "code",
   "execution_count": null,
   "metadata": {},
   "outputs": [
    {
     "name": "stderr",
     "output_type": "stream",
     "text": [
      "c:\\Users\\L E N O V O\\AppData\\Local\\Programs\\Python\\Python313\\Lib\\site-packages\\sklearn\\utils\\validation.py:2739: UserWarning: X does not have valid feature names, but LinearRegression was fitted with feature names\n",
      "  warnings.warn(\n"
     ]
    },
    {
     "data": {
      "text/plain": [
       "array([2970.0139041])"
      ]
     },
     "execution_count": 53,
     "metadata": {},
     "output_type": "execute_result"
    }
   ],
   "source": [
    "#salary pridiction \n",
    "# missing value set below by median\n",
    "#transfer word to number\n",
    "from word2number import w2n\n",
    "df_salary=pd.read_csv(\"salary_prediction.csv\")\n",
    "\n",
    "#procssing test data\n",
    "salary_median=math.floor(df_salary.test_score.median())\n",
    "df_salary.test_score=df_salary.test_score.fillna(salary_median)\n",
    "#process interview score data\n",
    "#process interview score data\n",
    "interview_median=math.floor(df_salary.interview_score.median())\n",
    "df_salary.interview_score=df_salary.interview_score.fillna(interview_median)\n",
    "#df_salary.experince\n",
    "df_salary.experince=df_salary.experince.fillna(0)\n",
    "df_salary[\"experince\"] = df_salary[\"experince\"].apply(lambda x: w2n.word_to_num(str(x)))\n",
    "df_salary.experince\n",
    "\n",
    "#now data is ready for regression after cleaaning\n",
    "#create a model as it created erlier\n",
    "df_salary.to_csv(\"salary_prediction.csv\", index=False)\n",
    "reg.fit(df_salary[['experince','test_score','interview_score']],df_salary.salary)\n",
    "reg.predict([[2,5,7]])\n",
    "\n",
    "\n"
   ]
  },
  {
   "cell_type": "code",
   "execution_count": null,
   "metadata": {},
   "outputs": [],
   "source": []
  },
  {
   "cell_type": "code",
   "execution_count": null,
   "metadata": {},
   "outputs": [],
   "source": []
  }
 ],
 "metadata": {
  "kernelspec": {
   "display_name": "Python 3",
   "language": "python",
   "name": "python3"
  },
  "language_info": {
   "codemirror_mode": {
    "name": "ipython",
    "version": 3
   },
   "file_extension": ".py",
   "mimetype": "text/x-python",
   "name": "python",
   "nbconvert_exporter": "python",
   "pygments_lexer": "ipython3",
   "version": "3.13.2"
  }
 },
 "nbformat": 4,
 "nbformat_minor": 2
}
